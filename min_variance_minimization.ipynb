{
 "cells": [
  {
   "cell_type": "code",
   "execution_count": 46,
   "id": "a04ed0ef",
   "metadata": {},
   "outputs": [],
   "source": [
    "import numpy as np\n",
    "import pandas as pd\n",
    "import os\n",
    "from scipy.optimize import fsolve, minimize\n",
    "import matplotlib.pyplot as plt"
   ]
  },
  {
   "cell_type": "code",
   "execution_count": 47,
   "id": "6525dbe2",
   "metadata": {},
   "outputs": [],
   "source": [
    "file=r'h4-DpctcEem1ZQ7C4qP0yA_542275b246a44f0993182797fe39b0fb_FERM_3_Assignment_2_Solutions.xlsx'\n",
    "path=r'C:\\Users\\tonyfong\\Downloads'\n",
    "df=pd.read_excel(os.path.join(path,file))\n",
    "df=df.set_index('date')"
   ]
  },
  {
   "cell_type": "code",
   "execution_count": 48,
   "id": "e9959c78",
   "metadata": {},
   "outputs": [],
   "source": [
    "def calculate_portfolio_return_and_variance(df, min_return):\n",
    "    def minimize_variance_objective(allocation, cov_matrix):\n",
    "        return allocation @ cov_matrix @ allocation\n",
    "\n",
    "    n = len(df.columns)\n",
    "    initial_allocation = np.ones(n) / n\n",
    "    cov_matrix = df.cov()\n",
    "    mean_returns = df.mean()\n",
    "    shirinkage_mean_returns= mean_returns * 0.9 + mean_returns.mean() * 0.1\n",
    "\n",
    "    constraints = [\n",
    "        {'type': 'eq', 'fun': lambda x: np.sum(x) - 1},\n",
    "        {'type': 'ineq', 'fun': lambda x: x @ shirinkage_mean_returns - min_return}\n",
    "    ]\n",
    "    bounds = [(0, 1) for _ in range(n)]\n",
    "\n",
    "    # def jacobian(allocation, cov_matrix):\n",
    "    #     return 2 * cov_matrix @ allocation\n",
    "\n",
    "    result = minimize(\n",
    "        minimize_variance_objective,\n",
    "        initial_allocation,\n",
    "        args=(cov_matrix,),\n",
    "        method='SLSQP',\n",
    "        bounds=bounds,\n",
    "        # jac=jacobian,\n",
    "        constraints=constraints,\n",
    "        options={'maxiter': 100000, 'ftol': 1e-1000}\n",
    "    )\n",
    "\n",
    "    optimal_allocation = result.x\n",
    "    portfolio_return =  optimal_allocation @ mean_returns\n",
    "    portfolio_variance = optimal_allocation @ cov_matrix @ optimal_allocation\n",
    "    # print(\"Optimal allocation:\", optimal_allocation)\n",
    "    # print(\"Portfolio return:\", optimal_allocation @ mean_returns)\n",
    "    # print(\"Portfolio variance:\", optimal_allocation @ cov_matrix @ optimal_allocation)\n",
    "    return portfolio_return, portfolio_variance#, optimal_allocation"
   ]
  },
  {
   "cell_type": "code",
   "execution_count": 49,
   "id": "fe668f5e",
   "metadata": {},
   "outputs": [],
   "source": [
    "returns=np.arange(1,100)*0.001\n",
    "results=[calculate_portfolio_return_and_variance(df, r) for r in returns]"
   ]
  },
  {
   "cell_type": "code",
   "execution_count": 50,
   "id": "28616d4b",
   "metadata": {},
   "outputs": [
    {
     "data": {
      "text/plain": [
       "<matplotlib.collections.PathCollection at 0x215e0afd3c0>"
      ]
     },
     "execution_count": 50,
     "metadata": {},
     "output_type": "execute_result"
    },
    {
     "data": {
      "image/png": "[encoded data removed]",
      "text/plain": [
       "<Figure size 640x480 with 1 Axes>"
      ]
     },
     "metadata": {},
     "output_type": "display_data"
    }
   ],
   "source": [
    "plt.scatter([i[1] for i in results],\n",
    "    [i[0] for i in results])"
   ]
  },
  {
   "cell_type": "code",
   "execution_count": null,
   "id": "8aebcee6",
   "metadata": {},
   "outputs": [],
   "source": []
  }
 ],
 "metadata": {
  "kernelspec": {
   "display_name": ".venv",
   "language": "python",
   "name": "python3"
  },
  "language_info": {
   "codemirror_mode": {
    "name": "ipython",
    "version": 3
   },
   "file_extension": ".py",
   "mimetype": "text/x-python",
   "name": "python",
   "nbconvert_exporter": "python",
   "pygments_lexer": "ipython3",
   "version": "3.10.11"
  }
 },
 "nbformat": 4,
 "nbformat_minor": 5
}
