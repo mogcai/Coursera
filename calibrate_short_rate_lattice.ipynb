{
 "cells": [
  {
   "cell_type": "code",
   "execution_count": 1,
   "id": "6583f9e5",
   "metadata": {},
   "outputs": [],
   "source": [
    "import numpy as np\n",
    "from scipy.optimize import fsolve, minimize"
   ]
  },
  {
   "cell_type": "code",
   "execution_count": 2,
   "id": "c35df812",
   "metadata": {},
   "outputs": [],
   "source": [
    "n_years = 13  # Number of time steps (years)\n",
    "delta_t = 1  # Time step size (years)\n",
    "face_value = 100.0  # Face value of the zero-coupon bond\n",
    "spot_rates = np.array([7.3, 7.62, 8.1, 8.45, 9.2, 9.64, 10.12, 10.45, \n",
    "                       10.75, 11.22, 11.55, 11.92, 12.2, 12.32])\n",
    "a= np.array([7.29999752722836, 7.90126469922232, 8.97605012230675, 9.36502699052018, 12.0093837510071, \n",
    "             11.5731272238594, 12.6594489019931, 12.3466327689557, 12.6637447577049, 14.8572495468136, \n",
    "             14.1764745547454, 15.2147712367476, 14.7056308409242, 13.0195231437149])\n",
    "b = np.array([0.01] * (n_years+1))  # Constant volatility of 1%\n",
    "p=0.5 # Assume risk neutral probability is 0.5\n",
    "q=1-p"
   ]
  },
  {
   "cell_type": "code",
   "execution_count": 3,
   "id": "5d0169ef",
   "metadata": {},
   "outputs": [],
   "source": [
    "n_years = 9  # Number of time steps (years)\n",
    "spot_rates = np.array([3, 3.1, 3.2, 3.3, 3.4, 3.5, 3.55, 3.6, \n",
    "                       3.65, 3.7])\n",
    "b = np.array([0.1] * (n_years+1))  # Constant volatility of 1%\n",
    "p=0.5 # Assume risk neutral probability is 0.5\n",
    "q=1-p"
   ]
  },
  {
   "cell_type": "code",
   "execution_count": 4,
   "id": "3559d590",
   "metadata": {},
   "outputs": [],
   "source": [
    "def build_short_rate_lattice(a, b, n_years):\n",
    "    # build short rate lattice\n",
    "    short_rate_lattice=[]\n",
    "    for i in range(n_years+1):\n",
    "        short_rate_lattice.append([0.0]*(i+1))\n",
    "        \n",
    "    for i in range(0, len(short_rate_lattice)):\n",
    "        for j in range(0, len(short_rate_lattice[i])):\n",
    "            short_rate_lattice[i][j]=a[i]*np.exp(b[i]*j)\n",
    "    return short_rate_lattice\n",
    "\n",
    "def build_elementary_prices(short_rate_lattice, p, q, n_years):\n",
    "    # build elementary prices\n",
    "    elementary_prices=[]\n",
    "    for i in range(n_years+2):\n",
    "        elementary_prices.append([0.0]*(i+1))\n",
    "\n",
    "    for i in range(0, len(elementary_prices)):\n",
    "        for j in range(0, len(elementary_prices[i])):\n",
    "            if i==0:\n",
    "                elementary_prices[i][j]=1\n",
    "            else:\n",
    "                if j==0:\n",
    "                    elementary_prices[i][j]=q*elementary_prices[i-1][j]/(1+short_rate_lattice[i-1][j]/100)\n",
    "                elif j==i:\n",
    "                    elementary_prices[i][j]=p*elementary_prices[i-1][j-1]/(1+short_rate_lattice[i-1][j-1]/100)\n",
    "                else:\n",
    "                    elementary_prices[i][j]=p*elementary_prices[i-1][j-1]/(1+short_rate_lattice[i-1][j-1]/100) + \\\n",
    "                                            q*elementary_prices[i-1][j]/(1+short_rate_lattice[i-1][j]/100)\n",
    "    return elementary_prices\n",
    "\n",
    "\n",
    "def calibration_function(a, spot_rates, b, p, q, n_years):\n",
    "\n",
    "    short_rate_lattice = build_short_rate_lattice(a, b, n_years)\n",
    "    elementary_prices=build_elementary_prices(short_rate_lattice, p, q, n_years)\n",
    "    \n",
    "    BDT_ZCB_price = [sum(i) for i in elementary_prices]\n",
    "    BDT_spot_rates = [((1 / i[1]) ** (1 / i[0])-1)*100 for i in zip(range(1, n_years + 2), BDT_ZCB_price[1:n_years + 2])]\n",
    "    BDT_spot_rates = np.array(BDT_spot_rates)\n",
    "    error=sum((BDT_spot_rates-spot_rates)**2)\n",
    "    return error"
   ]
  },
  {
   "cell_type": "code",
   "execution_count": 5,
   "id": "ee521e21",
   "metadata": {},
   "outputs": [],
   "source": [
    "computed_a=minimize(calibration_function, np.array([1]*(n_years+1)), \n",
    "                    args=(spot_rates, b, p, q, n_years))['x']"
   ]
  },
  {
   "cell_type": "code",
   "execution_count": 6,
   "id": "c8d05141",
   "metadata": {},
   "outputs": [],
   "source": [
    "short_rate_lattice = build_short_rate_lattice(computed_a, b, n_years)"
   ]
  },
  {
   "cell_type": "code",
   "execution_count": 7,
   "id": "85639db8",
   "metadata": {},
   "outputs": [
    {
     "name": "stdout",
     "output_type": "stream",
     "text": [
      "BDT Short Rate Lattice:\n",
      "Time 0.0: [np.float64(3.0)]\n",
      "Time 1.0: [np.float64(3.0405), np.float64(3.3602)]\n",
      "Time 2.0: [np.float64(3.0697), np.float64(3.3926), np.float64(3.7494)]\n",
      "Time 3.0: [np.float64(3.0891), np.float64(3.414), np.float64(3.773), np.float64(4.1698)]\n",
      "Time 4.0: [np.float64(3.0991), np.float64(3.425), np.float64(3.7852), np.float64(4.1833), np.float64(4.6232)]\n",
      "Time 5.0: [np.float64(3.1012), np.float64(3.4274), np.float64(3.7878), np.float64(4.1862), np.float64(4.6265), np.float64(5.113)]\n",
      "Time 6.0: [np.float64(2.8366), np.float64(3.1349), np.float64(3.4646), np.float64(3.829), np.float64(4.2317), np.float64(4.6767), np.float64(5.1686)]\n",
      "Time 7.0: [np.float64(2.7669), np.float64(3.0579), np.float64(3.3795), np.float64(3.7349), np.float64(4.1277), np.float64(4.5619), np.float64(5.0416), np.float64(5.5719)]\n",
      "Time 8.0: [np.float64(2.6974), np.float64(2.9811), np.float64(3.2947), np.float64(3.6412), np.float64(4.0241), np.float64(4.4473), np.float64(4.915), np.float64(5.432), np.float64(6.0032)]\n",
      "Time 9.0: [np.float64(2.6284), np.float64(2.9049), np.float64(3.2104), np.float64(3.548), np.float64(3.9211), np.float64(4.3335), np.float64(4.7893), np.float64(5.293), np.float64(5.8497), np.float64(6.4649)]\n"
     ]
    }
   ],
   "source": [
    "print(\"BDT Short Rate Lattice:\")\n",
    "for i, rates in enumerate(short_rate_lattice):\n",
    "    print(f\"Time {i :.1f}: {[round(r, 4) for r in rates]}\")\n"
   ]
  },
  {
   "cell_type": "code",
   "execution_count": 8,
   "id": "53cae45b",
   "metadata": {},
   "outputs": [
    {
     "name": "stdout",
     "output_type": "stream",
     "text": [
      "The payer swaption valuation price is: 0.8097\n"
     ]
    }
   ],
   "source": [
    "# value a payer swaption\n",
    "k=3.9 # the fixed rate is 11.65%\n",
    "n=10 # the swap matures at n=10\n",
    "t=3 # the option expires at t=2\n",
    "\n",
    "prices=[]\n",
    "for i in range(n):\n",
    "    prices.append([0.0]*(i+1))\n",
    "prices[-1]=[(i-k)/100/(1+i/100) for i in short_rate_lattice[n-1]]\n",
    "\n",
    "for i in range(len(prices)-1, -1, -1):\n",
    "    if i==n-1: # for the last period\n",
    "        prices[i]=[(i-k)/100/(1+i/100) for i in short_rate_lattice[n-1]] \n",
    "    elif i>t: # for the period option exerised and the swap is active\n",
    "        for j in range(len(prices[i])):\n",
    "            prices[i][j]=((p*prices[i+1][j] # from the upper node\n",
    "                           +q*prices[i+1][j+1] # from the lower node\n",
    "                           +(short_rate_lattice[i][j]-k)/100 # from the intrinsic value\n",
    "                           )/(1+short_rate_lattice[i][j]/100))\n",
    "    elif i==t: # for the period option is exercised\n",
    "        for j in range(len(prices[i])):\n",
    "            prices[i][j]=max(0,(( # option payoff is positive\n",
    "                            p*prices[i+1][j] # from the upper node\n",
    "                           +q*prices[i+1][j+1] # from the lower node\n",
    "                           +(short_rate_lattice[i][j]-k)/100 # from the intrinsic value\n",
    "                           )/(1+short_rate_lattice[i][j]/100)))\n",
    "    else: # for the period option is not yet exercised\n",
    "        for j in range(len(prices[i])):\n",
    "            prices[i][j]=((p*prices[i+1][j] # from the upper node\n",
    "                           +q*prices[i+1][j+1] # from the lower node\n",
    "                           )/(1+short_rate_lattice[i][j]/100))\n",
    "            \n",
    "price=prices[0][0]\n",
    "print(f\"\"\"The payer swaption valuation price is: {price*face_value:.4f}\"\"\")"
   ]
  },
  {
   "cell_type": "code",
   "execution_count": 9,
   "id": "72f3c296",
   "metadata": {},
   "outputs": [],
   "source": [
    "# Valuation of defaultable zero coupon bond with recovery\n",
    "n_years=9\n",
    "r_00=0.05\n",
    "u=1.1\n",
    "d=0.9\n",
    "p=0.5\n",
    "q=1-p\n",
    "a=0.01\n",
    "b=1.01\n",
    "face_value=100\n",
    "R=0.2 # Recovery rate\n"
   ]
  },
  {
   "cell_type": "code",
   "execution_count": 10,
   "id": "203b115e",
   "metadata": {},
   "outputs": [
    {
     "name": "stdout",
     "output_type": "stream",
     "text": [
      "Rate Tree:\n",
      "Time 0.0: [0.05]\n",
      "Time 1.0: [0.045, 0.055]\n",
      "Time 2.0: [0.0405, 0.0495, 0.0605]\n",
      "Time 3.0: [0.0365, 0.0446, 0.0545, 0.0666]\n",
      "Time 4.0: [0.0328, 0.0401, 0.049, 0.0599, 0.0732]\n",
      "Time 5.0: [0.0295, 0.0361, 0.0441, 0.0539, 0.0659, 0.0805]\n",
      "Time 6.0: [0.0266, 0.0325, 0.0397, 0.0485, 0.0593, 0.0725, 0.0886]\n",
      "Time 7.0: [0.0239, 0.0292, 0.0357, 0.0437, 0.0534, 0.0652, 0.0797, 0.0974]\n",
      "Time 8.0: [0.0215, 0.0263, 0.0322, 0.0393, 0.048, 0.0587, 0.0717, 0.0877, 0.1072]\n",
      "Time 9.0: [0.0194, 0.0237, 0.0289, 0.0354, 0.0432, 0.0528, 0.0646, 0.0789, 0.0965, 0.1179]\n"
     ]
    }
   ],
   "source": [
    "def build_interest_rate_tree(n_years, r_00, u, d):\n",
    "    rate_tree=[]\n",
    "    for i in range(n_years+1):\n",
    "            rate_tree.append([0.0]*(i+1))\n",
    "\n",
    "    for i in range(n_years+1):\n",
    "        for j in range(i+1):\n",
    "            if i==0:\n",
    "                rate_tree[i][j]=r_00\n",
    "            else:\n",
    "                rate_tree[i][j]=rate_tree[i-1][j]*d if j==0 else rate_tree[i-1][j-1]*u\n",
    "    return rate_tree\n",
    "\n",
    "rate_tree=build_interest_rate_tree(n_years, r_00, u, d)\n",
    "print(\"Rate Tree:\")\n",
    "for i, rates in enumerate(rate_tree):\n",
    "    print(f\"Time {i :.1f}: {[round(r, 4) for r in rates]}\")\n"
   ]
  },
  {
   "cell_type": "code",
   "execution_count": 11,
   "id": "6b62c448",
   "metadata": {},
   "outputs": [
    {
     "name": "stdout",
     "output_type": "stream",
     "text": [
      "Hazard Tree:\n",
      "Time 0.0: [0.01]\n",
      "Time 1.0: [0.01, 0.01]\n",
      "Time 2.0: [0.0099, 0.01, 0.0101]\n",
      "Time 3.0: [0.0099, 0.01, 0.01, 0.0102]\n",
      "Time 4.0: [0.0098, 0.0099, 0.01, 0.0101, 0.0102]\n",
      "Time 5.0: [0.0098, 0.0099, 0.01, 0.01, 0.0102, 0.0103]\n",
      "Time 6.0: [0.0097, 0.0098, 0.0099, 0.01, 0.0101, 0.0102, 0.0103]\n",
      "Time 7.0: [0.0097, 0.0098, 0.0099, 0.01, 0.01, 0.0102, 0.0103, 0.0104]\n",
      "Time 8.0: [0.0096, 0.0097, 0.0098, 0.0099, 0.01, 0.0101, 0.0102, 0.0103, 0.0104]\n",
      "Time 9.0: [0.0096, 0.0097, 0.0098, 0.0099, 0.01, 0.01, 0.0102, 0.0103, 0.0104, 0.0105]\n"
     ]
    }
   ],
   "source": [
    "def build_hazrd_tree(n_years, a, b):\n",
    "        hazard_tree=[]\n",
    "        for i in range(n_years+1):\n",
    "                hazard_tree.append([0.0]*(i+1))\n",
    "\n",
    "        # hazrd rate this time is h_ij=a*b^{j-i/2}\n",
    "        for i in range(n_years+1):\n",
    "                for j in range(i+1):\n",
    "                        hazard_tree[i][j]=a*b**(j-i/2)\n",
    "        return hazard_tree\n",
    "\n",
    "hazard_tree=build_hazrd_tree(n_years, a, b)\n",
    "print(\"Hazard Tree:\")\n",
    "for i, rates in enumerate(hazard_tree):\n",
    "    print(f\"Time {i :.1f}: {[round(r, 4) for r in rates]}\")"
   ]
  },
  {
   "cell_type": "code",
   "execution_count": 12,
   "id": "d644d6a4",
   "metadata": {},
   "outputs": [
    {
     "name": "stdout",
     "output_type": "stream",
     "text": [
      "ZCB Tree:\n",
      "Time 0.0: [57.2169]\n",
      "Time 1.0: [63.0337, 57.9314]\n",
      "Time 2.0: [68.5949, 64.0674, 59.0026]\n",
      "Time 3.0: [73.8379, 69.9356, 65.4963, 60.5171]\n",
      "Time 4.0: [78.72, 75.4636, 71.7053, 67.416, 62.5866]\n",
      "Time 5.0: [83.2167, 80.6018, 77.5465, 74.0073, 69.9504, 65.3583]\n",
      "Time 6.0: [87.3194, 85.3217, 82.963, 80.1959, 76.9751, 73.2618, 69.0295]\n",
      "Time 7.0: [91.032, 89.6123, 87.9212, 85.9161, 83.5518, 80.7829, 77.567, 73.869]\n",
      "Time 8.0: [94.3684, 93.4776, 92.4087, 91.1299, 89.6055, 87.7966, 85.662, 83.16, 80.2509]\n",
      "Time 9.0: [97.3493, 96.9324, 96.4293, 95.8228, 95.0934, 94.2182, 93.1716, 91.9249, 90.447, 88.7052]\n",
      "\n",
      "      The defaultable zero coupon bond price is: 57.2169\n",
      "\n"
     ]
    }
   ],
   "source": [
    "def build_defaultable_bond_tree(n_years, face_value, hazard_tree, rate_tree, R, p, q):\n",
    "    zcb_prices=[]\n",
    "    for i in range(n_years+1):\n",
    "        zcb_prices.append([0.0]*(i+1))\n",
    "\n",
    "    for i in range(n_years, -1, -1):\n",
    "        for j in range(i+1):\n",
    "            if i==n_years:\n",
    "                zcb_prices[i][j]=(face_value*(\n",
    "                    (1-hazard_tree[i][j]) # not default part\n",
    "                    + R*(hazard_tree[i][j]) # default part\n",
    "                    ))/(1+rate_tree[i][j])\n",
    "            else:\n",
    "                zcb_prices[i][j]=(\n",
    "                    p*zcb_prices[i+1][j+1]*( # from upper node\n",
    "                    (1-hazard_tree[i][j]) # not default part\n",
    "                )+\n",
    "                q*zcb_prices[i+1][j]*( # from lower node\n",
    "                    (1-hazard_tree[i][j]) # not default part\n",
    "                )+\n",
    "                face_value*R*(hazard_tree[i][j]) # default part\n",
    "                )/(1+rate_tree[i][j])\n",
    "    return zcb_prices\n",
    "\n",
    "zcb_prices=build_defaultable_bond_tree(n_years, face_value, hazard_tree, rate_tree, R, p, q)\n",
    "\n",
    "print(\"ZCB Tree:\")\n",
    "for i, rates in enumerate(zcb_prices):\n",
    "    print(f\"Time {i :.1f}: {[round(r, 4) for r in rates]}\")\n",
    "\n",
    "print(f\"\"\"\n",
    "      The defaultable zero coupon bond price is: {zcb_prices[0][0]:.4f}\n",
    "\"\"\")"
   ]
  },
  {
   "cell_type": "code",
   "execution_count": null,
   "id": "6fbce715",
   "metadata": {},
   "outputs": [],
   "source": []
  },
  {
   "cell_type": "code",
   "execution_count": null,
   "id": "053e9b37",
   "metadata": {},
   "outputs": [],
   "source": []
  }
 ],
 "metadata": {
  "kernelspec": {
   "display_name": ".venv",
   "language": "python",
   "name": "python3"
  },
  "language_info": {
   "codemirror_mode": {
    "name": "ipython",
    "version": 3
   },
   "file_extension": ".py",
   "mimetype": "text/x-python",
   "name": "python",
   "nbconvert_exporter": "python",
   "pygments_lexer": "ipython3",
   "version": "3.10.11"
  }
 },
 "nbformat": 4,
 "nbformat_minor": 5
}
